{
  "metadata": {
    "kernelspec": {
      "name": "python",
      "display_name": "Python (Pyodide)",
      "language": "python"
    },
    "language_info": {
      "codemirror_mode": {
        "name": "python",
        "version": 3
      },
      "file_extension": ".py",
      "mimetype": "text/x-python",
      "name": "python",
      "nbconvert_exporter": "python",
      "pygments_lexer": "ipython3",
      "version": "3.8"
    },
    "widgets": {
      "application/vnd.jupyter.widget-state+json": {
        "version_major": 2,
        "version_minor": 0,
        "state": {}
      }
    }
  },
  "nbformat_minor": 5,
  "nbformat": 4,
  "cells": [
    {
      "id": "9c08da44-8a2e-4fbd-9df8-358bba04c7c0",
      "cell_type": "code",
      "source": "# Q1.write for loop to print even numbers\nfor i in range(2,21,2):\n    print(i)",
      "metadata": {
        "trusted": true
      },
      "outputs": [
        {
          "name": "stdout",
          "output_type": "stream",
          "text": "2\n4\n6\n8\n10\n12\n14\n16\n18\n20\n"
        }
      ],
      "execution_count": 30
    },
    {
      "id": "7d96ae7b-9a52-4cb4-957c-073c8a4ed67c",
      "cell_type": "code",
      "source": "# Q2.creating a list of names and use a for loop to print each name in uppercase.\nnames=['Saad','Hamza','Awais','Faiz','Ahamad']\nfor name in names:\n    print(name.upper())",
      "metadata": {
        "trusted": true
      },
      "outputs": [
        {
          "name": "stdout",
          "output_type": "stream",
          "text": "SAAD\nHAMZA\nAWAIS\nFAIZ\nAHAMAD\n"
        }
      ],
      "execution_count": 5
    },
    {
      "id": "27852660-028b-42d0-a819-ead76265a4ee",
      "cell_type": "code",
      "source": "# Q3.using a for loop with range() to print numbers from 10 to 1 in reverse order.\nfor i in range(10,0,-1):\n    print(i)",
      "metadata": {
        "trusted": true
      },
      "outputs": [
        {
          "name": "stdout",
          "output_type": "stream",
          "text": "10\n9\n8\n7\n6\n5\n4\n3\n2\n1\n"
        }
      ],
      "execution_count": 8
    },
    {
      "id": "dcf25450-337a-4dff-a34d-8d2963f4f1cf",
      "cell_type": "code",
      "source": "# Q4.iterating through a list of integers and print only the numbers that are divisible by 3.\nnumbers=[1,2,3,4,5,6,7,8,9,10,11,12,13,14,15,16,17,18,19,20]\nfor num in numbers:\n    if num % 3 == 0:\n        print(num)\n    ",
      "metadata": {
        "trusted": true
      },
      "outputs": [
        {
          "name": "stdout",
          "output_type": "stream",
          "text": "3\n6\n9\n12\n15\n18\n"
        }
      ],
      "execution_count": 1
    },
    {
      "id": "c3bb97ef-2dda-424a-8216-caf1f7f58837",
      "cell_type": "code",
      "source": "# Q5.writing a loop that prints the squares of numbers from 1 to 10.\nfor i in range(1,11):\n    print(i**2)\n\n",
      "metadata": {
        "trusted": true
      },
      "outputs": [
        {
          "name": "stdout",
          "output_type": "stream",
          "text": "1\n4\n9\n16\n25\n36\n49\n64\n81\n100\n"
        }
      ],
      "execution_count": 17
    },
    {
      "id": "72d00c0f-2c3b-47f4-81f7-fc4699ab1677",
      "cell_type": "code",
      "source": "# Q6.given a list of temperatures in Celsius, use a for loop to convert each to Fahrenheit.\ncelsius_temps = [0, 20, 37, 100, -10]\nfahrenheit_temps=[]\nfor c in celsius_temps:\n    f = c * 9/5 + 32\n    fahrenheit_temps.append(f)\n    print(fahrenheit_temps)",
      "metadata": {
        "trusted": true
      },
      "outputs": [
        {
          "name": "stdout",
          "output_type": "stream",
          "text": "[32.0]\n[32.0, 68.0]\n[32.0, 68.0, 98.6]\n[32.0, 68.0, 98.6, 212.0]\n[32.0, 68.0, 98.6, 212.0, 14.0]\n"
        }
      ],
      "execution_count": 20
    },
    {
      "id": "24b409b1-111b-4125-be05-13fab5dd20e3",
      "cell_type": "code",
      "source": "# Q7.creating a for loop that prints the multiplication table of 5.\nnumber=5\nfor i in range(1,11):\n    result= number * i\n    print(f\"{number} x {i}= {result}\")",
      "metadata": {
        "trusted": true
      },
      "outputs": [
        {
          "name": "stdout",
          "output_type": "stream",
          "text": "5 x 1= 5\n5 x 2= 10\n5 x 3= 15\n5 x 4= 20\n5 x 5= 25\n5 x 6= 30\n5 x 7= 35\n5 x 8= 40\n5 x 9= 45\n5 x 10= 50\n"
        }
      ],
      "execution_count": 31
    },
    {
      "id": "5419ab46-7376-4a5b-80f0-5fea55714e34",
      "cell_type": "code",
      "source": "# Q8. writing a program to find the sum of all numbers in a list using a for loop.\nnumbers=[1,2,3,4,5]\ntotal_sum=0\nfor num in numbers:\n    total_sum+=num\n    print(f\"The sum of all numbers in a list is\",total_sum)",
      "metadata": {
        "trusted": true
      },
      "outputs": [
        {
          "name": "stdout",
          "output_type": "stream",
          "text": "The sum of all numbers in a list is 1\nThe sum of all numbers in a list is 3\nThe sum of all numbers in a list is 6\nThe sum of all numbers in a list is 10\nThe sum of all numbers in a list is 15\n"
        }
      ],
      "execution_count": 26
    },
    {
      "id": "37524d78-a23b-4754-b824-53e03b73d5e3",
      "cell_type": "code",
      "source": "# Q9. using a for loop to iterate through a string and print each character separately.\nstring= \"HELLO WORLD\"\n#Using for loop to print each character separatly\nfor char in string:\n    print(char)",
      "metadata": {
        "trusted": true
      },
      "outputs": [
        {
          "name": "stdout",
          "output_type": "stream",
          "text": "H\nE\nL\nL\nO\n \nW\nO\nR\nL\nD\n"
        }
      ],
      "execution_count": 27
    },
    {
      "id": "fa721252-c0cc-4e93-a16a-54b64ef83f3d",
      "cell_type": "code",
      "source": "# Q10. creating a list of words and use a for loop to print only the words with more than 5 letters.\ncars=['Toyota', 'Honda' ,'Yamaha', 'Sazuki','Audi']\nfor car in cars:\n    if len(car) > 5 :\n        print(car)",
      "metadata": {
        "trusted": true
      },
      "outputs": [
        {
          "name": "stdout",
          "output_type": "stream",
          "text": "Toyota\nYamaha\nSazuki\n"
        }
      ],
      "execution_count": 29
    }
  ]
}